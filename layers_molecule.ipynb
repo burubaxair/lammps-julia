{
 "cells": [
  {
   "cell_type": "markdown",
   "id": "cc628617-720e-4f72-b2b4-49c89403bfde",
   "metadata": {},
   "source": [
    "See the rules here: https://docs.lammps.org/2001/data_format.html\n",
    "\n",
    "Blank lines are important. After the header section, new entries are separated by blank lines.\n",
    "\n",
    "Indentation and space between words/numbers on one line is not important except that keywords (e.g. Masses, Bond Coeffs) must be left-justified and capitalized as shown.\n",
    "\n",
    "The header section (thru box bounds) must appear first in the file, the remaining entries (Masses, various Coeffs, Atoms, Bonds, etc) can come in any order.\n",
    "\n",
    "These entries must be in the file: header section, Masses, Atoms.\n",
    "\n",
    "Atoms format: `N molecule-tag atom-type q x y z nx ny nz`"
   ]
  },
  {
   "cell_type": "code",
   "execution_count": 1,
   "id": "9cf974a8-b68b-4257-b3be-6238c6b77592",
   "metadata": {},
   "outputs": [],
   "source": [
    "function atomic2full(input_atomic, output_full)\n",
    "    lines = open(input_atomic) do file; readlines(file); end\n",
    "\n",
    "    # Get the number of the line \"Atoms # atomic\"\n",
    "    idx = findfirst(x -> startswith(x, \"Atoms\"), lines)\n",
    "\n",
    "    # Number of atoms\n",
    "    n_atoms = parse(Int, filter(x -> '0' <= x <= '9', lines[3]))\n",
    "\n",
    "    # Indices of the first and the last lines with atomic coordinates\n",
    "    ib = idx + 2; ie = idx + 2 + (n_atoms - 1);\n",
    "\n",
    "    # Array of z coordinates\n",
    "    z_coords = Array{Float64}(undef, n_atoms)\n",
    "    z_coord_position = 5\n",
    "    for (iz, iline) ∈ enumerate(ib:ie)\n",
    "        z_coords[iz] = parse(Float64, (split(lines[iline])[z_coord_position]))\n",
    "    end\n",
    "\n",
    "    # Unique z values up to two digits after the decimal point\n",
    "    z_uniques = unique(trunc.(z_coords, digits = 2))\n",
    "    sort!(z_uniques)\n",
    "\n",
    "    q = \"0.0\" # charge\n",
    "\n",
    "    for (iz, iline) ∈ enumerate(ib:ie)\n",
    "        molecule_tag = findfirst(x -> isapprox(x, z_coords[iz]; atol=0.01), z_uniques) \n",
    "        line_vec = split(lines[iline])\n",
    "        insert!(line_vec, 3, q)\n",
    "        insert!(line_vec, 2, string(molecule_tag))\n",
    "        lines[iline] = \"      \"*join(line_vec, \"      \")\n",
    "    end\n",
    "\n",
    "    lines[idx] = replace(lines[idx], \"atomic\" => \"full\")\n",
    "    \n",
    "    open(output_full, \"w\") do file\n",
    "        for line ∈ lines\n",
    "            write(file, line*\"\\n\") \n",
    "        end\n",
    "    end    \n",
    "end;"
   ]
  },
  {
   "cell_type": "markdown",
   "id": "36130d5e-3508-497b-bd1f-ae73686a1e50",
   "metadata": {},
   "source": [
    "--------------------------"
   ]
  },
  {
   "cell_type": "code",
   "execution_count": 6,
   "id": "bf2d3d81-ba3c-49f0-83c9-bf9af4455a03",
   "metadata": {},
   "outputs": [],
   "source": [
    "input_atomic = \"hBN//hBN_bilayer_100_100.lmp\";\n",
    "output_full =  \"hBN//hBN_bilayer_full_100_100.lmp\";"
   ]
  },
  {
   "cell_type": "code",
   "execution_count": 7,
   "id": "142f736b-2103-4191-b60b-b0eb73c9a97a",
   "metadata": {},
   "outputs": [],
   "source": [
    "atomic2full(input_atomic, output_full)"
   ]
  },
  {
   "cell_type": "code",
   "execution_count": null,
   "id": "15088cf4-c514-423b-903c-c5709158fdc4",
   "metadata": {},
   "outputs": [],
   "source": []
  }
 ],
 "metadata": {
  "kernelspec": {
   "display_name": "Julia 1.10.2",
   "language": "julia",
   "name": "julia-1.10"
  },
  "language_info": {
   "file_extension": ".jl",
   "mimetype": "application/julia",
   "name": "julia",
   "version": "1.10.2"
  }
 },
 "nbformat": 4,
 "nbformat_minor": 5
}
