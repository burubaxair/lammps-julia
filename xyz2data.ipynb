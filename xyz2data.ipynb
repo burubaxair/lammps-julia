{
 "cells": [
  {
   "cell_type": "code",
   "execution_count": 1,
   "id": "0d37000d",
   "metadata": {},
   "outputs": [],
   "source": [
    "using Printf"
   ]
  },
  {
   "cell_type": "code",
   "execution_count": 2,
   "id": "4a73bd0c",
   "metadata": {},
   "outputs": [],
   "source": [
    "function xyz2array(filename::String)::Array{Float64,2}\n",
    "    \n",
    "    xyz_file = open(filename)\n",
    "    lines_xyz = readlines(xyz_file)\n",
    "    close(xyz_file)\n",
    "    \n",
    "    n_xyz = size(lines_xyz[2:end])[1]\n",
    "    xyz = Array{Float64,2}(undef, (n_xyz,3));\n",
    "    \n",
    "    for i ∈ 1:n_xyz\n",
    "        line = split(lines_xyz[i+1],\",\");\n",
    "        for j ∈ 1:3\n",
    "            xyz[i,j] = parse(Float64,line[j])\n",
    "        end\n",
    "    end\n",
    "    return xyz\n",
    "end;"
   ]
  },
  {
   "cell_type": "code",
   "execution_count": 3,
   "id": "41d17abc",
   "metadata": {},
   "outputs": [],
   "source": [
    "function array2data(xyz::Array{Float64,2}, nx::Int, ny::Int)::Vector{String}\n",
    "\n",
    "    n_xyz = size(xyz)[1]\n",
    "\n",
    "\n",
    "\n",
    "    @assert n_xyz == 2 * nx * ny \"Wrong number of rows and columns\"\n",
    "\n",
    "    xhi = 1.42*sqrt(3.0)*nx;\n",
    "    yhi = (2*1.42)+(ny/2-1) * (2*1.42) * 1.5+1.42;\n",
    "\n",
    "    data = Array{String}(undef, n_xyz + 9);\n",
    "    \n",
    "    data[1] = \"#\"\n",
    "    data[2] = \"$(n_xyz) atoms\"\n",
    "    data[3] = \"1 atom types\"\n",
    "    data[4] = \"0.0 $(xhi) xlo xhi\"\n",
    "    data[5] = \"0.0 $(yhi) ylo yhi\"\n",
    "    data[6] = \"-5 5 zlo zhi\"\n",
    "    data[7] = \" \"\n",
    "    data[8] = \"Atoms  # atomic\"\n",
    "    data[9] = \" \";\n",
    "    \n",
    "    for i ∈ 1:n_xyz\n",
    "    data[9+i] = string(i) * '\\t' * string(1) * '\\t' * @sprintf(\"%.10f\", xyz[i,1]) *\n",
    "                                               '\\t' * @sprintf(\"%.10f\", xyz[i,2]) *\n",
    "                                               '\\t' * @sprintf(\"%.10f\", xyz[i,3])                    \n",
    "    end\n",
    "    \n",
    "    return data\n",
    "end;"
   ]
  },
  {
   "cell_type": "markdown",
   "id": "ef992663",
   "metadata": {},
   "source": [
    "-------------------"
   ]
  },
  {
   "cell_type": "code",
   "execution_count": 4,
   "id": "860869a9",
   "metadata": {},
   "outputs": [
    {
     "data": {
      "text/plain": [
       "57600×3 Matrix{Float64}:\n",
       "   0.578494    0.956384   1.04469\n",
       "   1.83047     1.58862    1.15961\n",
       "   1.9002      2.98566    1.23823\n",
       "   0.67391     3.7266     1.24177\n",
       "   0.735763    5.12043    1.31516\n",
       "   2.06573     5.7255     1.33341\n",
       "   2.14669     7.11391    1.3641\n",
       "   0.906698    7.83605    1.41712\n",
       "   1.02483     9.23464    1.44337\n",
       "   2.28478     9.84608    1.40527\n",
       "   2.25362    11.26       1.42282\n",
       "   1.02477    11.9591     1.46614\n",
       "   0.962956   13.3778     1.47395\n",
       "   ⋮                     \n",
       " 292.833     499.415      0.822942\n",
       " 294.076     500.125      0.780187\n",
       " 294.006     501.561      0.753102\n",
       " 292.712     502.28       0.740875\n",
       " 292.585     503.74       0.637471\n",
       " 293.982     504.392      0.598258\n",
       " 294.143     505.852      0.446832\n",
       " 293.07      506.866     -0.0952931\n",
       " 293.307     508.142     -0.0011311\n",
       " 294.529     508.729      0.527051\n",
       " 294.515     510.127      0.736012\n",
       " 293.343     510.944      0.783301"
      ]
     },
     "execution_count": 4,
     "metadata": {},
     "output_type": "execute_result"
    }
   ],
   "source": [
    "# datafile =      \"D:\\\\Documents\\\\LAMMPS\\\\structures\\\\structure524288d128v3.data\"       # output\n",
    "# xyz = xyz2array(\"D:\\\\Documents\\\\LAMMPS\\\\structures\\\\structure524288d128v3.xyz\")   # input\n",
    "\n",
    "# datafile =      \"D:\\\\Documents\\\\LAMMPS\\\\structures\\\\yy\\\\structure8192d256v3.data\"       # output\n",
    "# xyz = xyz2array(\"D:\\\\Documents\\\\LAMMPS\\\\structures\\\\yy\\\\structure8192d256v3.xyz\")   # input\n",
    "\n",
    "# datafile =      \"D:\\\\Documents\\\\Defects\\\\structure72d2.data\"       # output\n",
    "# xyz = xyz2array(\"D:\\\\Documents\\\\Defects\\\\structure72d2.xyz\")   # input\n",
    "\n",
    "# datafile =         \"D:\\\\Documents\\\\MD\\\\graphite\\\\structure1600d20.data\"\n",
    "# xyz      = xyz2array(\"D:\\\\Documents\\\\MD\\\\graphite\\\\structure1600d20.xyz\")\n",
    "\n",
    "# datafile =         \"D:\\\\Documents\\\\MD\\\\def03\\\\structure128d2.data\"\n",
    "# xyz      = xyz2array(\"D:\\\\Documents\\\\MD\\\\def03\\\\structure128d2.xyz\")\n",
    "\n",
    "datafile =         \"D:\\\\Documents\\\\MD\\\\def03\\\\structure57600d800.data\"\n",
    "xyz      = xyz2array(\"D:\\\\Documents\\\\MD\\\\def03\\\\structure57600d800.xyz\")"
   ]
  },
  {
   "cell_type": "code",
   "execution_count": 5,
   "id": "373cd828",
   "metadata": {},
   "outputs": [],
   "source": [
    "data = array2data(xyz, 120, 240)\n",
    "open(datafile, \"w\") do f\n",
    "    for i ∈ eachindex(data)\n",
    "        write(f, data[i]*\"\\n\")\n",
    "    end\n",
    "end"
   ]
  },
  {
   "cell_type": "code",
   "execution_count": null,
   "id": "da126a8c",
   "metadata": {},
   "outputs": [],
   "source": []
  }
 ],
 "metadata": {
  "@webio": {
   "lastCommId": null,
   "lastKernelId": null
  },
  "kernelspec": {
   "display_name": "Julia 1.10.5",
   "language": "julia",
   "name": "julia-1.10"
  },
  "language_info": {
   "file_extension": ".jl",
   "mimetype": "application/julia",
   "name": "julia",
   "version": "1.10.5"
  }
 },
 "nbformat": 4,
 "nbformat_minor": 5
}
